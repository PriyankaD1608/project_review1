{
  "nbformat": 4,
  "nbformat_minor": 0,
  "metadata": {
    "colab": {
      "name": "CNN/Same apdding/max pooling.ipynb",
      "provenance": []
    },
    "kernelspec": {
      "name": "python3",
      "display_name": "Python 3"
    }
  },
  "cells": [
    {
      "cell_type": "code",
      "metadata": {
        "id": "nHXt_xY0_DUi",
        "colab_type": "code",
        "colab": {}
      },
      "source": [
        "import torch\n",
        "import torch.nn as nn \n",
        "import torchvision.transforms as transforms\n",
        "import torchvision.datasets as dsets\n",
        "from torch.autograd import Variable"
      ],
      "execution_count": 33,
      "outputs": []
    },
    {
      "cell_type": "code",
      "metadata": {
        "id": "5_gsX3ke_HKS",
        "colab_type": "code",
        "colab": {}
      },
      "source": [
        "#STEP1\n",
        "train_dataset = dsets.MNIST(root='./data',\n",
        "                            train=True,\n",
        "                            transform=transforms.ToTensor(),\n",
        "                            download=True)\n",
        "\n",
        "test_dataset=dsets.MNIST(root='./data',\n",
        "                         train=False,\n",
        "                         transform=transforms.ToTensor())"
      ],
      "execution_count": 34,
      "outputs": []
    },
    {
      "cell_type": "code",
      "metadata": {
        "id": "bgQMn7RM_OY1",
        "colab_type": "code",
        "colab": {
          "base_uri": "https://localhost:8080/",
          "height": 68
        },
        "outputId": "882781ce-d24c-4463-fbb6-a39af1416e1d"
      },
      "source": [
        "print(train_dataset.train_data.size())"
      ],
      "execution_count": 3,
      "outputs": [
        {
          "output_type": "stream",
          "text": [
            "torch.Size([60000, 28, 28])\n"
          ],
          "name": "stdout"
        },
        {
          "output_type": "stream",
          "text": [
            "/usr/local/lib/python3.6/dist-packages/torchvision/datasets/mnist.py:55: UserWarning: train_data has been renamed data\n",
            "  warnings.warn(\"train_data has been renamed data\")\n"
          ],
          "name": "stderr"
        }
      ]
    },
    {
      "cell_type": "code",
      "metadata": {
        "id": "VKvEPylDAMqs",
        "colab_type": "code",
        "colab": {
          "base_uri": "https://localhost:8080/",
          "height": 68
        },
        "outputId": "25e8be0b-1553-433c-8eb6-219724c77185"
      },
      "source": [
        "print(train_dataset.train_labels.size())"
      ],
      "execution_count": 4,
      "outputs": [
        {
          "output_type": "stream",
          "text": [
            "torch.Size([60000])\n"
          ],
          "name": "stdout"
        },
        {
          "output_type": "stream",
          "text": [
            "/usr/local/lib/python3.6/dist-packages/torchvision/datasets/mnist.py:45: UserWarning: train_labels has been renamed targets\n",
            "  warnings.warn(\"train_labels has been renamed targets\")\n"
          ],
          "name": "stderr"
        }
      ]
    },
    {
      "cell_type": "code",
      "metadata": {
        "id": "i8nHP3crAbml",
        "colab_type": "code",
        "colab": {
          "base_uri": "https://localhost:8080/",
          "height": 68
        },
        "outputId": "6f3011e3-f4e4-449d-ad47-4ded438df824"
      },
      "source": [
        "print(test_dataset.test_data.size())"
      ],
      "execution_count": 5,
      "outputs": [
        {
          "output_type": "stream",
          "text": [
            "torch.Size([10000, 28, 28])\n"
          ],
          "name": "stdout"
        },
        {
          "output_type": "stream",
          "text": [
            "/usr/local/lib/python3.6/dist-packages/torchvision/datasets/mnist.py:60: UserWarning: test_data has been renamed data\n",
            "  warnings.warn(\"test_data has been renamed data\")\n"
          ],
          "name": "stderr"
        }
      ]
    },
    {
      "cell_type": "code",
      "metadata": {
        "id": "OvbcU0zMAhA-",
        "colab_type": "code",
        "colab": {
          "base_uri": "https://localhost:8080/",
          "height": 68
        },
        "outputId": "9666561c-9307-4c23-db7d-4a271f2b7031"
      },
      "source": [
        "print(test_dataset.test_labels.size())"
      ],
      "execution_count": 6,
      "outputs": [
        {
          "output_type": "stream",
          "text": [
            "torch.Size([10000])\n"
          ],
          "name": "stdout"
        },
        {
          "output_type": "stream",
          "text": [
            "/usr/local/lib/python3.6/dist-packages/torchvision/datasets/mnist.py:50: UserWarning: test_labels has been renamed targets\n",
            "  warnings.warn(\"test_labels has been renamed targets\")\n"
          ],
          "name": "stderr"
        }
      ]
    },
    {
      "cell_type": "code",
      "metadata": {
        "id": "aH-e-CF5Amgl",
        "colab_type": "code",
        "colab": {}
      },
      "source": [
        "#STEP2\n",
        "len(train_dataset)\n",
        "batch_size=100\n",
        "n_iters=3000\n",
        "num_epochs= n_iters/(len(train_dataset)/batch_size)\n",
        "num_epochs=int(num_epochs)\n",
        "num_epochs\n",
        "train_loader=torch.utils.data.DataLoader(dataset=train_dataset,\n",
        "                                          batch_size=batch_size,\n",
        "                                          shuffle=True)\n",
        "test_loader = torch.utils.data.DataLoader(dataset=test_dataset,\n",
        "                                          batch_size=batch_size,\n",
        "                                          shuffle=False)"
      ],
      "execution_count": 35,
      "outputs": []
    },
    {
      "cell_type": "code",
      "metadata": {
        "id": "L6lQEB9XBDX3",
        "colab_type": "code",
        "colab": {}
      },
      "source": [
        "#STEP3\n",
        "class CNNModel(nn.Module):\n",
        "  def __init__(self):\n",
        "     super(CNNModel, self).__init__()\n",
        "     #convolution1\n",
        "     self.cnn1= nn.Conv2d(in_channels=1, out_channels=16, kernel_size=5, stride=1, padding=2)\n",
        "     self.relu1= nn.ReLU()\n",
        "\n",
        "     #MaxPool1\n",
        "     self.maxpool1 = nn.MaxPool2d(kernel_size=2)\n",
        "\n",
        "     #Convolution2\n",
        "     self.cnn2= nn.Conv2d(in_channels=16, out_channels=32, kernel_size=5, stride=1, padding=2)\n",
        "     self.relu2 = nn.ReLU()\n",
        "\n",
        "     #MaxPool2\n",
        "     self.maxpool2 = nn.MaxPool2d(kernel_size=2)\n",
        "\n",
        "     self.fc1= nn.Linear(32*7*7, 10)\n",
        "\n",
        "  def forward(self, x):\n",
        "    #Convolution 1\n",
        "    out=self.cnn1(x) \n",
        "    out=self.relu1(out)\n",
        "\n",
        "    #Max Pool 1\n",
        "    out=self.maxpool1(out)\n",
        "    \n",
        "    #Convolution 2\n",
        "    out= self.cnn2(out)\n",
        "    out= self.relu2(out)\n",
        "    \n",
        "    #Max Pool 2\n",
        "    out=self.maxpool2(out)\n",
        "\n",
        "    #Resize\n",
        "    #Original size: (100,32,7,7)\n",
        "    #Out.size(0): 100\n",
        "    #New out size: (100, 32*7*7)\n",
        "    out= out.view(out.size(0), -1)\n",
        "\n",
        "    #Linear Function\n",
        "    out=self.fc1(out)\n",
        "\n",
        "    return out"
      ],
      "execution_count": 51,
      "outputs": []
    },
    {
      "cell_type": "code",
      "metadata": {
        "id": "6CIiQz_0LMrP",
        "colab_type": "code",
        "colab": {}
      },
      "source": [
        "#STEP4\n",
        "model= CNNModel()"
      ],
      "execution_count": 52,
      "outputs": []
    },
    {
      "cell_type": "code",
      "metadata": {
        "id": "qwJBYs-uLm7D",
        "colab_type": "code",
        "colab": {}
      },
      "source": [
        "#STEP5\n",
        "criterion = nn.CrossEntropyLoss()"
      ],
      "execution_count": 53,
      "outputs": []
    },
    {
      "cell_type": "code",
      "metadata": {
        "id": "WpGTPmXZLtDk",
        "colab_type": "code",
        "colab": {}
      },
      "source": [
        "#STEP6\n",
        "learning_rate=0.01\n",
        "\n",
        "optimizer= torch.optim.SGD(model.parameters(), lr=learning_rate)"
      ],
      "execution_count": 54,
      "outputs": []
    },
    {
      "cell_type": "code",
      "metadata": {
        "id": "FeKU57kmL9dC",
        "colab_type": "code",
        "colab": {
          "base_uri": "https://localhost:8080/",
          "height": 153
        },
        "outputId": "900db96b-d89a-4fcd-bd4e-380d36a37398"
      },
      "source": [
        "#parameters in depth\n",
        "print(model.parameters())\n",
        "print(len(list(model.parameters())))\n",
        "\n",
        "#Convolution 1:16 kernels\n",
        "print(list(model.parameters())[0].size())\n",
        "#Convolution 1 Bias: 16 kernels\n",
        "print(list(model.parameters())[1].size())\n",
        "\n",
        "#Convolution 2:32 kernels with depth 16\n",
        "print(list(model.parameters())[2].size())\n",
        "#Convolution 2: 32 kernels with depth 16\n",
        "print(list(model.parameters())[3].size())\n",
        "\n",
        "#Fully Connected Layer 1\n",
        "print(list(model.parameters())[4].size())\n",
        "#Fully Connected Layer 1 with Bias\n",
        "print(list(model.parameters())[5].size())\n"
      ],
      "execution_count": 22,
      "outputs": [
        {
          "output_type": "stream",
          "text": [
            "<generator object Module.parameters at 0x7f6bc61ceb48>\n",
            "6\n",
            "torch.Size([16, 1, 5, 5])\n",
            "torch.Size([16])\n",
            "torch.Size([32, 16, 5, 5])\n",
            "torch.Size([32])\n",
            "torch.Size([10, 1568])\n",
            "torch.Size([10])\n"
          ],
          "name": "stdout"
        }
      ]
    },
    {
      "cell_type": "code",
      "metadata": {
        "id": "tHYORqlwTE2H",
        "colab_type": "code",
        "colab": {
          "base_uri": "https://localhost:8080/",
          "height": 156
        },
        "outputId": "71035b4a-1d9e-49c3-d6aa-0071a06cef94"
      },
      "source": [
        "iter = 0\n",
        "for epoch in range(num_epochs):\n",
        "    for i, (images, labels) in enumerate(train_loader):\n",
        "        # Load images\n",
        "        images = images.requires_grad_()\n",
        "\n",
        "        # Clear gradients w.r.t. parameters\n",
        "        optimizer.zero_grad()\n",
        "\n",
        "        # Forward pass to get output/logits\n",
        "        outputs = model(images)\n",
        "\n",
        "        # Calculate Loss: softmax --> cross entropy loss\n",
        "        loss = criterion(outputs, labels)\n",
        "\n",
        "        # Getting gradients w.r.t. parameters\n",
        "        loss.backward()\n",
        "\n",
        "        # Updating parameters\n",
        "        optimizer.step()\n",
        "\n",
        "        iter += 1\n",
        "\n",
        "        if iter % 500 == 0:\n",
        "            # Calculate Accuracy         \n",
        "            correct = 0\n",
        "            total = 0\n",
        "            # Iterate through test dataset\n",
        "            for images, labels in test_loader:\n",
        "                # Load images\n",
        "                images = images.requires_grad_()\n",
        "\n",
        "                # Forward pass only to get logits/output\n",
        "                outputs = model(images)\n",
        "\n",
        "                # Get predictions from the maximum value\n",
        "                _, predicted = torch.max(outputs.data, 1)\n",
        "\n",
        "                # Total number of labels\n",
        "                total += labels.size(0)\n",
        "\n",
        "                # Total correct predictions\n",
        "                correct += (predicted == labels).sum()\n",
        "\n",
        "            accuracy = 100 * correct / total\n",
        "\n",
        "            # Print Loss\n",
        "            print('Iteration: {}. Loss: {}. Accuracy: {}'.format(iter, loss.item(), accuracy))"
      ],
      "execution_count": 55,
      "outputs": [
        {
          "output_type": "stream",
          "text": [
            "/pytorch/aten/src/ATen/native/BinaryOps.cpp:81: UserWarning: Integer division of tensors using div or / is deprecated, and in a future release div will perform true division as in Python 3. Use true_divide or floor_divide (// in Python) instead.\n"
          ],
          "name": "stderr"
        },
        {
          "output_type": "stream",
          "text": [
            "Iteration: 500. Loss: 0.6480942368507385. Accuracy: 84\n",
            "Iteration: 1000. Loss: 0.3086514174938202. Accuracy: 92\n",
            "Iteration: 1500. Loss: 0.17455345392227173. Accuracy: 94\n",
            "Iteration: 2000. Loss: 0.19680136442184448. Accuracy: 95\n",
            "Iteration: 2500. Loss: 0.23159915208816528. Accuracy: 96\n",
            "Iteration: 3000. Loss: 0.1979455053806305. Accuracy: 96\n"
          ],
          "name": "stdout"
        }
      ]
    },
    {
      "cell_type": "code",
      "metadata": {
        "id": "Xci7_KZ_Tbk-",
        "colab_type": "code",
        "colab": {}
      },
      "source": [
        ""
      ],
      "execution_count": null,
      "outputs": []
    }
  ]
}